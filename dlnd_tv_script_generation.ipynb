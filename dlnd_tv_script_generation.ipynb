{
 "cells": [
  {
   "cell_type": "markdown",
   "metadata": {
    "deletable": true,
    "editable": true
   },
   "source": [
    "# TV Script Generation\n",
    "In this project, you'll generate your own [Simpsons](https://en.wikipedia.org/wiki/The_Simpsons) TV scripts using RNNs.  You'll be using part of the [Simpsons dataset](https://www.kaggle.com/wcukierski/the-simpsons-by-the-data) of scripts from 27 seasons.  The Neural Network you'll build will generate a new TV script for a scene at [Moe's Tavern](https://simpsonswiki.com/wiki/Moe's_Tavern).\n",
    "## Get the Data\n",
    "The data is already provided for you.  You'll be using a subset of the original dataset.  It consists of only the scenes in Moe's Tavern.  This doesn't include other versions of the tavern, like \"Moe's Cavern\", \"Flaming Moe's\", \"Uncle Moe's Family Feed-Bag\", etc.."
   ]
  },
  {
   "cell_type": "code",
   "execution_count": 1,
   "metadata": {
    "collapsed": false,
    "deletable": true,
    "editable": true
   },
   "outputs": [],
   "source": [
    "\"\"\"\n",
    "DON'T MODIFY ANYTHING IN THIS CELL\n",
    "\"\"\"\n",
    "import helper\n",
    "\n",
    "data_dir = './data/simpsons/moes_tavern_lines.txt'\n",
    "text = helper.load_data(data_dir)\n",
    "# Ignore notice, since we don't use it for analysing the data\n",
    "text = text[81:]"
   ]
  },
  {
   "cell_type": "markdown",
   "metadata": {
    "deletable": true,
    "editable": true
   },
   "source": [
    "## Explore the Data\n",
    "Play around with `view_sentence_range` to view different parts of the data."
   ]
  },
  {
   "cell_type": "code",
   "execution_count": 2,
   "metadata": {
    "collapsed": false,
    "deletable": true,
    "editable": true
   },
   "outputs": [
    {
     "name": "stdout",
     "output_type": "stream",
     "text": [
      "Dataset Stats\n",
      "Roughly the number of unique words: 11492\n",
      "Number of scenes: 262\n",
      "Average number of sentences in each scene: 15.248091603053435\n",
      "Number of lines: 4257\n",
      "Average number of words in each line: 11.50434578341555\n",
      "\n",
      "The sentences 30 to 40:\n",
      "Lisa_Simpson: He's just a little nervous. (PROUDLY) He has to give a speech tomorrow on \"How To Keep Cool In A Crisis.\"\n",
      "Homer_Simpson: (SOBS) What am I gonna do? What am I gonna do?\n",
      "Barney_Gumble: Hey, I had to give a speech once. I was pretty nervous, so I used a little trick. I pictured everyone in their underwear. The judge, the jury, my lawyer, everybody.\n",
      "Homer_Simpson: Did it work?\n",
      "Barney_Gumble: I'm a free man, ain't I?\n",
      "Barney_Gumble: Whoa!\n",
      "Barney_Gumble: Huh? A pretzel? Wow, looks like I pulled a Homer!\n",
      "\n",
      "\n",
      "Patrons: (MUMBLING, NOT IN UNISON) Happy thoughts... happy thoughts... we love that boy.\n"
     ]
    }
   ],
   "source": [
    "view_sentence_range = (30, 40)\n",
    "\n",
    "\"\"\"\n",
    "DON'T MODIFY ANYTHING IN THIS CELL\n",
    "\"\"\"\n",
    "import numpy as np\n",
    "\n",
    "print('Dataset Stats')\n",
    "print('Roughly the number of unique words: {}'.format(len({word: None for word in text.split()})))\n",
    "scenes = text.split('\\n\\n')\n",
    "print('Number of scenes: {}'.format(len(scenes)))\n",
    "sentence_count_scene = [scene.count('\\n') for scene in scenes]\n",
    "print('Average number of sentences in each scene: {}'.format(np.average(sentence_count_scene)))\n",
    "\n",
    "sentences = [sentence for scene in scenes for sentence in scene.split('\\n')]\n",
    "print('Number of lines: {}'.format(len(sentences)))\n",
    "word_count_sentence = [len(sentence.split()) for sentence in sentences]\n",
    "print('Average number of words in each line: {}'.format(np.average(word_count_sentence)))\n",
    "\n",
    "print()\n",
    "print('The sentences {} to {}:'.format(*view_sentence_range))\n",
    "print('\\n'.join(text.split('\\n')[view_sentence_range[0]:view_sentence_range[1]]))"
   ]
  },
  {
   "cell_type": "markdown",
   "metadata": {
    "deletable": true,
    "editable": true
   },
   "source": [
    "## Implement Preprocessing Functions\n",
    "The first thing to do to any dataset is preprocessing.  Implement the following preprocessing functions below:\n",
    "- Lookup Table\n",
    "- Tokenize Punctuation\n",
    "\n",
    "### Lookup Table\n",
    "To create a word embedding, you first need to transform the words to ids.  In this function, create two dictionaries:\n",
    "- Dictionary to go from the words to an id, we'll call `vocab_to_int`\n",
    "- Dictionary to go from the id to word, we'll call `int_to_vocab`\n",
    "\n",
    "Return these dictionaries in the following tuple `(vocab_to_int, int_to_vocab)`"
   ]
  },
  {
   "cell_type": "code",
   "execution_count": 3,
   "metadata": {
    "collapsed": false,
    "deletable": true,
    "editable": true
   },
   "outputs": [
    {
     "name": "stdout",
     "output_type": "stream",
     "text": [
      "Tests Passed\n"
     ]
    }
   ],
   "source": [
    "import numpy as np\n",
    "import problem_unittests as tests\n",
    "\n",
    "def create_lookup_tables(text):\n",
    "    \"\"\"\n",
    "    Create lookup tables for vocabulary\n",
    "    :param text: The text of tv scripts split into words\n",
    "    :return: A tuple of dicts (vocab_to_int, int_to_vocab)\n",
    "    \"\"\"\n",
    "    # TODO: Implement Function\n",
    "    vocab = set(text)\n",
    "    vocab_to_int = {word: idx for idx, word in enumerate(vocab)}\n",
    "    int_to_vocab = dict(enumerate(vocab))\n",
    "    return vocab_to_int, int_to_vocab\n",
    "\n",
    "\n",
    "\"\"\"\n",
    "DON'T MODIFY ANYTHING IN THIS CELL THAT IS BELOW THIS LINE\n",
    "\"\"\"\n",
    "tests.test_create_lookup_tables(create_lookup_tables)"
   ]
  },
  {
   "cell_type": "markdown",
   "metadata": {
    "deletable": true,
    "editable": true
   },
   "source": [
    "### Tokenize Punctuation\n",
    "We'll be splitting the script into a word array using spaces as delimiters.  However, punctuations like periods and exclamation marks make it hard for the neural network to distinguish between the word \"bye\" and \"bye!\".\n",
    "\n",
    "Implement the function `token_lookup` to return a dict that will be used to tokenize symbols like \"!\" into \"||Exclamation_Mark||\".  Create a dictionary for the following symbols where the symbol is the key and value is the token:\n",
    "- Period ( . )\n",
    "- Comma ( , )\n",
    "- Quotation Mark ( \" )\n",
    "- Semicolon ( ; )\n",
    "- Exclamation mark ( ! )\n",
    "- Question mark ( ? )\n",
    "- Left Parentheses ( ( )\n",
    "- Right Parentheses ( ) )\n",
    "- Dash ( -- )\n",
    "- Return ( \\n )\n",
    "\n",
    "This dictionary will be used to token the symbols and add the delimiter (space) around it.  This separates the symbols as it's own word, making it easier for the neural network to predict on the next word. Make sure you don't use a token that could be confused as a word. Instead of using the token \"dash\", try using something like \"||dash||\"."
   ]
  },
  {
   "cell_type": "code",
   "execution_count": 4,
   "metadata": {
    "collapsed": false,
    "deletable": true,
    "editable": true
   },
   "outputs": [
    {
     "name": "stdout",
     "output_type": "stream",
     "text": [
      "Tests Passed\n"
     ]
    }
   ],
   "source": [
    "def token_lookup():\n",
    "    \"\"\"\n",
    "    Generate a dict to turn punctuation into a token.\n",
    "    :return: Tokenize dictionary where the key is the punctuation and the value is the token\n",
    "    \"\"\"\n",
    "    # TODO: Implement Function\n",
    "    symbols = dict()\n",
    "    symbols['.'] = \"||Period||\"\n",
    "    symbols[','] = \"||Comma||\"\n",
    "    symbols['\"'] = \"||Quotation||\"\n",
    "    symbols[';'] = \"||Semicolon||\"\n",
    "    symbols['!'] = \"||ExclamationMark||\"\n",
    "    symbols['?'] = \"||QuestionMark||\"\n",
    "    symbols['('] = \"||LeftParen||\"\n",
    "    symbols[')'] = \"||RightParen||\"\n",
    "    symbols['--'] = \"||Dash||\"\n",
    "    symbols['\\n'] = \"||Return||\"\n",
    "    return symbols\n",
    "\n",
    "\"\"\"\n",
    "DON'T MODIFY ANYTHING IN THIS CELL THAT IS BELOW THIS LINE\n",
    "\"\"\"\n",
    "tests.test_tokenize(token_lookup)"
   ]
  },
  {
   "cell_type": "markdown",
   "metadata": {
    "deletable": true,
    "editable": true
   },
   "source": [
    "## Preprocess all the data and save it\n",
    "Running the code cell below will preprocess all the data and save it to file."
   ]
  },
  {
   "cell_type": "code",
   "execution_count": 5,
   "metadata": {
    "collapsed": false,
    "deletable": true,
    "editable": true
   },
   "outputs": [],
   "source": [
    "\"\"\"\n",
    "DON'T MODIFY ANYTHING IN THIS CELL\n",
    "\"\"\"\n",
    "# Preprocess Training, Validation, and Testing Data\n",
    "helper.preprocess_and_save_data(data_dir, token_lookup, create_lookup_tables)"
   ]
  },
  {
   "cell_type": "markdown",
   "metadata": {
    "deletable": true,
    "editable": true
   },
   "source": [
    "# Check Point\n",
    "This is your first checkpoint. If you ever decide to come back to this notebook or have to restart the notebook, you can start from here. The preprocessed data has been saved to disk."
   ]
  },
  {
   "cell_type": "code",
   "execution_count": 6,
   "metadata": {
    "collapsed": false,
    "deletable": true,
    "editable": true
   },
   "outputs": [],
   "source": [
    "\"\"\"\n",
    "DON'T MODIFY ANYTHING IN THIS CELL\n",
    "\"\"\"\n",
    "import helper\n",
    "import numpy as np\n",
    "import problem_unittests as tests\n",
    "\n",
    "int_text, vocab_to_int, int_to_vocab, token_dict = helper.load_preprocess()"
   ]
  },
  {
   "cell_type": "markdown",
   "metadata": {
    "deletable": true,
    "editable": true
   },
   "source": [
    "## Build the Neural Network\n",
    "You'll build the components necessary to build a RNN by implementing the following functions below:\n",
    "- get_inputs\n",
    "- get_init_cell\n",
    "- get_embed\n",
    "- build_rnn\n",
    "- build_nn\n",
    "- get_batches\n",
    "\n",
    "### Check the Version of TensorFlow and Access to GPU"
   ]
  },
  {
   "cell_type": "code",
   "execution_count": 7,
   "metadata": {
    "collapsed": false,
    "deletable": true,
    "editable": true
   },
   "outputs": [
    {
     "name": "stdout",
     "output_type": "stream",
     "text": [
      "TensorFlow Version: 1.0.0\n",
      "Default GPU Device: /gpu:0\n"
     ]
    }
   ],
   "source": [
    "\"\"\"\n",
    "DON'T MODIFY ANYTHING IN THIS CELL\n",
    "\"\"\"\n",
    "from distutils.version import LooseVersion\n",
    "import warnings\n",
    "import tensorflow as tf\n",
    "\n",
    "# Check TensorFlow Version\n",
    "assert LooseVersion(tf.__version__) >= LooseVersion('1.0'), 'Please use TensorFlow version 1.0 or newer'\n",
    "print('TensorFlow Version: {}'.format(tf.__version__))\n",
    "\n",
    "# Check for a GPU\n",
    "if not tf.test.gpu_device_name():\n",
    "    warnings.warn('No GPU found. Please use a GPU to train your neural network.')\n",
    "else:\n",
    "    print('Default GPU Device: {}'.format(tf.test.gpu_device_name()))"
   ]
  },
  {
   "cell_type": "markdown",
   "metadata": {
    "deletable": true,
    "editable": true
   },
   "source": [
    "### Input\n",
    "Implement the `get_inputs()` function to create TF Placeholders for the Neural Network.  It should create the following placeholders:\n",
    "- Input text placeholder named \"input\" using the [TF Placeholder](https://www.tensorflow.org/api_docs/python/tf/placeholder) `name` parameter.\n",
    "- Targets placeholder\n",
    "- Learning Rate placeholder\n",
    "\n",
    "Return the placeholders in the following the tuple `(Input, Targets, LearingRate)`"
   ]
  },
  {
   "cell_type": "code",
   "execution_count": 8,
   "metadata": {
    "collapsed": false,
    "deletable": true,
    "editable": true
   },
   "outputs": [
    {
     "name": "stdout",
     "output_type": "stream",
     "text": [
      "Tests Passed\n"
     ]
    }
   ],
   "source": [
    "def get_inputs():\n",
    "    \"\"\"\n",
    "    Create TF Placeholders for input, targets, and learning rate.\n",
    "    :return: Tuple (input, targets, learning rate)\n",
    "    \"\"\"\n",
    "    # TODO: Implement Function\n",
    "    Input = tf.placeholder(tf.int32, shape=[None,None], name=\"input\")\n",
    "    Targets = tf.placeholder(tf.int32, shape=[None,None], name=\"targets\")\n",
    "    Learning_Rate = tf.placeholder(tf.float32, name=\"learning_rate\")\n",
    "    return (Input, Targets, Learning_Rate)\n",
    "\n",
    "\n",
    "\"\"\"\n",
    "DON'T MODIFY ANYTHING IN THIS CELL THAT IS BELOW THIS LINE\n",
    "\"\"\"\n",
    "tests.test_get_inputs(get_inputs)"
   ]
  },
  {
   "cell_type": "markdown",
   "metadata": {
    "deletable": true,
    "editable": true
   },
   "source": [
    "### Build RNN Cell and Initialize\n",
    "Stack one or more [`BasicLSTMCells`](https://www.tensorflow.org/api_docs/python/tf/contrib/rnn/BasicLSTMCell) in a [`MultiRNNCell`](https://www.tensorflow.org/api_docs/python/tf/contrib/rnn/MultiRNNCell).\n",
    "- The Rnn size should be set using `rnn_size`\n",
    "- Initalize Cell State using the MultiRNNCell's [`zero_state()`](https://www.tensorflow.org/api_docs/python/tf/contrib/rnn/MultiRNNCell#zero_state) function\n",
    "    - Apply the name \"initial_state\" to the initial state using [`tf.identity()`](https://www.tensorflow.org/api_docs/python/tf/identity)\n",
    "\n",
    "Return the cell and initial state in the following tuple `(Cell, InitialState)`"
   ]
  },
  {
   "cell_type": "code",
   "execution_count": 9,
   "metadata": {
    "collapsed": false,
    "deletable": true,
    "editable": true
   },
   "outputs": [
    {
     "name": "stdout",
     "output_type": "stream",
     "text": [
      "Tests Passed\n"
     ]
    }
   ],
   "source": [
    "def get_init_cell(batch_size, rnn_size):\n",
    "    \"\"\"\n",
    "    Create an RNN Cell and initialize it.\n",
    "    :param batch_size: Size of batches\n",
    "    :param rnn_size: Size of RNNs\n",
    "    :return: Tuple (cell, initialize state)\n",
    "    \"\"\"\n",
    "    # TODO: Implement Function\n",
    "    basicCells = tf.contrib.rnn.BasicLSTMCell(rnn_size, state_is_tuple=True)\n",
    "    dropout = tf.contrib.rnn.DropoutWrapper(basicCells, output_keep_prob=0.8)\n",
    "    Cell = tf.contrib.rnn.MultiRNNCell([dropout])\n",
    "    InitialState = Cell.zero_state(batch_size, tf.float32)\n",
    "    InitialState = tf.identity(InitialState, name=\"initial_state\")\n",
    "    \n",
    "    return Cell, InitialState\n",
    "\n",
    "\"\"\"\n",
    "DON'T MODIFY ANYTHING IN THIS CELL THAT IS BELOW THIS LINE\n",
    "\"\"\"\n",
    "tests.test_get_init_cell(get_init_cell)"
   ]
  },
  {
   "cell_type": "markdown",
   "metadata": {
    "deletable": true,
    "editable": true
   },
   "source": [
    "### Word Embedding\n",
    "Apply embedding to `input_data` using TensorFlow.  Return the embedded sequence."
   ]
  },
  {
   "cell_type": "code",
   "execution_count": 10,
   "metadata": {
    "collapsed": false,
    "deletable": true,
    "editable": true
   },
   "outputs": [
    {
     "name": "stdout",
     "output_type": "stream",
     "text": [
      "Tests Passed\n"
     ]
    }
   ],
   "source": [
    "def get_embed(input_data, vocab_size, embed_dim):\n",
    "    \"\"\"\n",
    "    Create embedding for <input_data>.\n",
    "    :param input_data: TF placeholder for text input.\n",
    "    :param vocab_size: Number of words in vocabulary.\n",
    "    :param embed_dim: Number of embedding dimensions\n",
    "    :return: Embedded input.\n",
    "    \"\"\"\n",
    "    # TODO: Implement Function\n",
    "    #embedding = tf.Variable(tf.random_uniform((vocab_size, embed_dim), -1, 1))\n",
    "    embedding = tf.Variable(tf.truncated_normal((vocab_size, embed_dim), stddev=0.1))\n",
    "    embed = tf.nn.embedding_lookup(embedding, input_data)\n",
    "    #tf.nn.embedding_lookup(params, ids, partition_strategy='mod', name=None, validate_indices=True, max_norm=None)\n",
    "    return embed\n",
    "\n",
    "\"\"\"\n",
    "DON'T MODIFY ANYTHING IN THIS CELL THAT IS BELOW THIS LINE\n",
    "\"\"\"\n",
    "tests.test_get_embed(get_embed)"
   ]
  },
  {
   "cell_type": "markdown",
   "metadata": {
    "deletable": true,
    "editable": true
   },
   "source": [
    "### Build RNN\n",
    "You created a RNN Cell in the `get_init_cell()` function.  Time to use the cell to create a RNN.\n",
    "- Build the RNN using the [`tf.nn.dynamic_rnn()`](https://www.tensorflow.org/api_docs/python/tf/nn/dynamic_rnn)\n",
    " - Apply the name \"final_state\" to the final state using [`tf.identity()`](https://www.tensorflow.org/api_docs/python/tf/identity)\n",
    "\n",
    "Return the outputs and final_state state in the following tuple `(Outputs, FinalState)` "
   ]
  },
  {
   "cell_type": "code",
   "execution_count": 11,
   "metadata": {
    "collapsed": false,
    "deletable": true,
    "editable": true
   },
   "outputs": [
    {
     "name": "stdout",
     "output_type": "stream",
     "text": [
      "Tests Passed\n"
     ]
    }
   ],
   "source": [
    "def build_rnn(cell, inputs):\n",
    "    \"\"\"\n",
    "    Create a RNN using a RNN Cell\n",
    "    :param cell: RNN Cell\n",
    "    :param inputs: Input text data\n",
    "    :return: Tuple (Outputs, Final State)\n",
    "    \"\"\"\n",
    "    # TODO: Implement Function\n",
    "    outputs, state = tf.nn.dynamic_rnn(cell, inputs, dtype=tf.float32) \n",
    "    state = tf.identity(state, name='final_state')\n",
    "    return outputs, state\n",
    "\n",
    "\"\"\"\n",
    "DON'T MODIFY ANYTHING IN THIS CELL THAT IS BELOW THIS LINE\n",
    "\"\"\"\n",
    "tests.test_build_rnn(build_rnn)"
   ]
  },
  {
   "cell_type": "markdown",
   "metadata": {
    "deletable": true,
    "editable": true
   },
   "source": [
    "### Build the Neural Network\n",
    "Apply the functions you implemented above to:\n",
    "- Apply embedding to `input_data` using your `get_embed(input_data, vocab_size, embed_dim)` function.\n",
    "- Build RNN using `cell` and your `build_rnn(cell, inputs)` function.\n",
    "- Apply a fully connected layer with a linear activation and `vocab_size` as the number of outputs.\n",
    "\n",
    "Return the logits and final state in the following tuple (Logits, FinalState) "
   ]
  },
  {
   "cell_type": "code",
   "execution_count": 12,
   "metadata": {
    "collapsed": false,
    "deletable": true,
    "editable": true
   },
   "outputs": [
    {
     "name": "stdout",
     "output_type": "stream",
     "text": [
      "Tests Passed\n"
     ]
    }
   ],
   "source": [
    "def build_nn(cell, rnn_size, input_data, vocab_size):\n",
    "    \"\"\"\n",
    "    Build part of the neural network\n",
    "    :param cell: RNN cell\n",
    "    :param rnn_size: Size of rnns\n",
    "    :param input_data: Input data\n",
    "    :param vocab_size: Vocabulary size\n",
    "    :return: Tuple (Logits, FinalState)\n",
    "    \"\"\"\n",
    "    # TODO: Implement Function\n",
    "    embed = get_embed(input_data, vocab_size, rnn_size)\n",
    "    output, cellstate = build_rnn(cell, embed)\n",
    "    #weights = tf.Variable(tf.truncated_normal((rnn_size, vocab_size), stddev=0.1))\n",
    "    #biases = tf.Variable(tf.zeros(vocab_size))\n",
    "    weights = tf.truncated_normal_initializer(stddev=0.1)\n",
    "    biases = tf.zeros_initializer()\n",
    "    logits = tf.contrib.layers.fully_connected(output, vocab_size, \n",
    "                                               weights_initializer=weights,\n",
    "                                               biases_initializer=biases,\n",
    "                                               activation_fn=None)\n",
    "    #print(logits)\n",
    "    return logits, cellstate\n",
    "\n",
    "\n",
    "\"\"\"\n",
    "DON'T MODIFY ANYTHING IN THIS CELL THAT IS BELOW THIS LINE\n",
    "\"\"\"\n",
    "tests.test_build_nn(build_nn)"
   ]
  },
  {
   "cell_type": "markdown",
   "metadata": {
    "deletable": true,
    "editable": true
   },
   "source": [
    "### Batches\n",
    "Implement `get_batches` to create batches of input and targets using `int_text`.  The batches should be a Numpy array with the shape `(number of batches, 2, batch size, sequence length)`. Each batch contains two elements:\n",
    "- The first element is a single batch of **input** with the shape `[batch size, sequence length]`\n",
    "- The second element is a single batch of **targets** with the shape `[batch size, sequence length]`\n",
    "\n",
    "If you can't fill the last batch with enough data, drop the last batch.\n",
    "\n",
    "For exmple, `get_batches([1, 2, 3, 4, 5, 6, 7, 8, 9, 10, 11, 12, 13, 14, 15], 2, 3)` would return a Numpy array of the following:\n",
    "```\n",
    "[\n",
    "  # First Batch\n",
    "  [\n",
    "    # Batch of Input\n",
    "    [[ 1  2  3], [ 7  8  9]],\n",
    "    # Batch of targets\n",
    "    [[ 2  3  4], [ 8  9 10]]\n",
    "  ],\n",
    " \n",
    "  # Second Batch\n",
    "  [\n",
    "    # Batch of Input\n",
    "    [[ 4  5  6], [10 11 12]],\n",
    "    # Batch of targets\n",
    "    [[ 5  6  7], [11 12 13]]\n",
    "  ]\n",
    "]\n",
    "```"
   ]
  },
  {
   "cell_type": "code",
   "execution_count": 13,
   "metadata": {
    "collapsed": false,
    "deletable": true,
    "editable": true
   },
   "outputs": [
    {
     "name": "stdout",
     "output_type": "stream",
     "text": [
      "Tests Passed\n"
     ]
    }
   ],
   "source": [
    "def get_batches(int_text, batch_size, seq_length):\n",
    "    \"\"\"\n",
    "    Return batches of input and target\n",
    "    :param int_text: Text with the words replaced by their ids\n",
    "    :param batch_size: The size of batch\n",
    "    :param seq_length: The length of sequence\n",
    "    :return: Batches as a Numpy array\n",
    "    \"\"\"\n",
    "    # TODO: Implement Function\n",
    "    n_batches = int(len(int_text) / (batch_size * seq_length))\n",
    "\n",
    "    xdata = np.array(int_text[: n_batches * batch_size * seq_length])\n",
    "    ydata = np.array(int_text[1: n_batches * batch_size * seq_length + 1])\n",
    "\n",
    "    x_batches = np.split(xdata.reshape(batch_size, -1), n_batches, 1)\n",
    "    y_batches = np.split(ydata.reshape(batch_size, -1), n_batches, 1)\n",
    "\n",
    "    return np.array(list(zip(x_batches, y_batches)))\n",
    "\n",
    "\"\"\"\n",
    "DON'T MODIFY ANYTHING IN THIS CELL THAT IS BELOW THIS LINE\n",
    "\"\"\"\n",
    "tests.test_get_batches(get_batches)"
   ]
  },
  {
   "cell_type": "markdown",
   "metadata": {
    "deletable": true,
    "editable": true
   },
   "source": [
    "## Neural Network Training\n",
    "### Hyperparameters\n",
    "Tune the following parameters:\n",
    "\n",
    "- Set `num_epochs` to the number of epochs.\n",
    "- Set `batch_size` to the batch size.\n",
    "- Set `rnn_size` to the size of the RNNs.\n",
    "- Set `seq_length` to the length of sequence.\n",
    "- Set `learning_rate` to the learning rate.\n",
    "- Set `show_every_n_batches` to the number of batches the neural network should print progress."
   ]
  },
  {
   "cell_type": "code",
   "execution_count": 14,
   "metadata": {
    "collapsed": true,
    "deletable": true,
    "editable": true
   },
   "outputs": [],
   "source": [
    "# Number of Epochs\n",
    "num_epochs = 300\n",
    "# Batch Size\n",
    "batch_size = 50\n",
    "# RNN Size\n",
    "rnn_size = 256\n",
    "# Sequence Length\n",
    "seq_length = 20\n",
    "# Learning Rate\n",
    "learning_rate = .001\n",
    "# Show stats for every n number of batches\n",
    "show_every_n_batches = 69\n",
    "\n",
    "\"\"\"\n",
    "DON'T MODIFY ANYTHING IN THIS CELL THAT IS BELOW THIS LINE\n",
    "\"\"\"\n",
    "save_dir = './save'"
   ]
  },
  {
   "cell_type": "markdown",
   "metadata": {
    "deletable": true,
    "editable": true
   },
   "source": [
    "### Build the Graph\n",
    "Build the graph using the neural network you implemented."
   ]
  },
  {
   "cell_type": "code",
   "execution_count": 15,
   "metadata": {
    "collapsed": false,
    "deletable": true,
    "editable": true
   },
   "outputs": [],
   "source": [
    "\"\"\"\n",
    "DON'T MODIFY ANYTHING IN THIS CELL\n",
    "\"\"\"\n",
    "from tensorflow.contrib import seq2seq\n",
    "\n",
    "train_graph = tf.Graph()\n",
    "with train_graph.as_default():\n",
    "    vocab_size = len(int_to_vocab)\n",
    "    input_text, targets, lr = get_inputs()\n",
    "    input_data_shape = tf.shape(input_text)\n",
    "    cell, initial_state = get_init_cell(input_data_shape[0], rnn_size)\n",
    "    logits, final_state = build_nn(cell, rnn_size, input_text, vocab_size)\n",
    "\n",
    "    # Probabilities for generating words\n",
    "    probs = tf.nn.softmax(logits, name='probs')\n",
    "\n",
    "    # Loss function\n",
    "    cost = seq2seq.sequence_loss(\n",
    "        logits,\n",
    "        targets,\n",
    "        tf.ones([input_data_shape[0], input_data_shape[1]]))\n",
    "\n",
    "    # Optimizer\n",
    "    optimizer = tf.train.AdamOptimizer(lr)\n",
    "\n",
    "    # Gradient Clipping\n",
    "    gradients = optimizer.compute_gradients(cost)\n",
    "    capped_gradients = [(tf.clip_by_value(grad, -1., 1.), var) for grad, var in gradients]\n",
    "    train_op = optimizer.apply_gradients(capped_gradients)"
   ]
  },
  {
   "cell_type": "markdown",
   "metadata": {
    "deletable": true,
    "editable": true
   },
   "source": [
    "## Train\n",
    "Train the neural network on the preprocessed data.  If you have a hard time getting a good loss, check the [forms](https://discussions.udacity.com/) to see if anyone is having the same problem."
   ]
  },
  {
   "cell_type": "code",
   "execution_count": 16,
   "metadata": {
    "collapsed": false,
    "deletable": true,
    "editable": true
   },
   "outputs": [
    {
     "name": "stdout",
     "output_type": "stream",
     "text": [
      "Epoch   0 Batch    0/69   train_loss = 8.824\n",
      "Epoch   1 Batch    0/69   train_loss = 6.006\n",
      "Epoch   2 Batch    0/69   train_loss = 5.550\n",
      "Epoch   3 Batch    0/69   train_loss = 5.253\n",
      "Epoch   4 Batch    0/69   train_loss = 5.039\n",
      "Epoch   5 Batch    0/69   train_loss = 4.873\n",
      "Epoch   6 Batch    0/69   train_loss = 4.709\n",
      "Epoch   7 Batch    0/69   train_loss = 4.580\n",
      "Epoch   8 Batch    0/69   train_loss = 4.469\n",
      "Epoch   9 Batch    0/69   train_loss = 4.361\n",
      "Epoch  10 Batch    0/69   train_loss = 4.284\n",
      "Epoch  11 Batch    0/69   train_loss = 4.171\n",
      "Epoch  12 Batch    0/69   train_loss = 4.075\n",
      "Epoch  13 Batch    0/69   train_loss = 4.023\n",
      "Epoch  14 Batch    0/69   train_loss = 3.939\n",
      "Epoch  15 Batch    0/69   train_loss = 3.844\n",
      "Epoch  16 Batch    0/69   train_loss = 3.767\n",
      "Epoch  17 Batch    0/69   train_loss = 3.690\n",
      "Epoch  18 Batch    0/69   train_loss = 3.610\n",
      "Epoch  19 Batch    0/69   train_loss = 3.550\n",
      "Epoch  20 Batch    0/69   train_loss = 3.477\n",
      "Epoch  21 Batch    0/69   train_loss = 3.420\n",
      "Epoch  22 Batch    0/69   train_loss = 3.328\n",
      "Epoch  23 Batch    0/69   train_loss = 3.274\n",
      "Epoch  24 Batch    0/69   train_loss = 3.208\n",
      "Epoch  25 Batch    0/69   train_loss = 3.149\n",
      "Epoch  26 Batch    0/69   train_loss = 3.073\n",
      "Epoch  27 Batch    0/69   train_loss = 2.994\n",
      "Epoch  28 Batch    0/69   train_loss = 2.950\n",
      "Epoch  29 Batch    0/69   train_loss = 2.868\n",
      "Epoch  30 Batch    0/69   train_loss = 2.819\n",
      "Epoch  31 Batch    0/69   train_loss = 2.772\n",
      "Epoch  32 Batch    0/69   train_loss = 2.715\n",
      "Epoch  33 Batch    0/69   train_loss = 2.636\n",
      "Epoch  34 Batch    0/69   train_loss = 2.573\n",
      "Epoch  35 Batch    0/69   train_loss = 2.515\n",
      "Epoch  36 Batch    0/69   train_loss = 2.509\n",
      "Epoch  37 Batch    0/69   train_loss = 2.423\n",
      "Epoch  38 Batch    0/69   train_loss = 2.404\n",
      "Epoch  39 Batch    0/69   train_loss = 2.306\n",
      "Epoch  40 Batch    0/69   train_loss = 2.241\n",
      "Epoch  41 Batch    0/69   train_loss = 2.210\n",
      "Epoch  42 Batch    0/69   train_loss = 2.151\n",
      "Epoch  43 Batch    0/69   train_loss = 2.130\n",
      "Epoch  44 Batch    0/69   train_loss = 2.059\n",
      "Epoch  45 Batch    0/69   train_loss = 2.033\n",
      "Epoch  46 Batch    0/69   train_loss = 1.996\n",
      "Epoch  47 Batch    0/69   train_loss = 1.937\n",
      "Epoch  48 Batch    0/69   train_loss = 1.933\n",
      "Epoch  49 Batch    0/69   train_loss = 1.904\n",
      "Epoch  50 Batch    0/69   train_loss = 1.858\n",
      "Epoch  51 Batch    0/69   train_loss = 1.834\n",
      "Epoch  52 Batch    0/69   train_loss = 1.793\n",
      "Epoch  53 Batch    0/69   train_loss = 1.766\n",
      "Epoch  54 Batch    0/69   train_loss = 1.731\n",
      "Epoch  55 Batch    0/69   train_loss = 1.704\n",
      "Epoch  56 Batch    0/69   train_loss = 1.644\n",
      "Epoch  57 Batch    0/69   train_loss = 1.619\n",
      "Epoch  58 Batch    0/69   train_loss = 1.556\n",
      "Epoch  59 Batch    0/69   train_loss = 1.554\n",
      "Epoch  60 Batch    0/69   train_loss = 1.527\n",
      "Epoch  61 Batch    0/69   train_loss = 1.489\n",
      "Epoch  62 Batch    0/69   train_loss = 1.466\n",
      "Epoch  63 Batch    0/69   train_loss = 1.421\n",
      "Epoch  64 Batch    0/69   train_loss = 1.383\n",
      "Epoch  65 Batch    0/69   train_loss = 1.349\n",
      "Epoch  66 Batch    0/69   train_loss = 1.358\n",
      "Epoch  67 Batch    0/69   train_loss = 1.335\n",
      "Epoch  68 Batch    0/69   train_loss = 1.296\n",
      "Epoch  69 Batch    0/69   train_loss = 1.245\n",
      "Epoch  70 Batch    0/69   train_loss = 1.233\n",
      "Epoch  71 Batch    0/69   train_loss = 1.198\n",
      "Epoch  72 Batch    0/69   train_loss = 1.196\n",
      "Epoch  73 Batch    0/69   train_loss = 1.210\n",
      "Epoch  74 Batch    0/69   train_loss = 1.163\n",
      "Epoch  75 Batch    0/69   train_loss = 1.094\n",
      "Epoch  76 Batch    0/69   train_loss = 1.091\n",
      "Epoch  77 Batch    0/69   train_loss = 1.105\n",
      "Epoch  78 Batch    0/69   train_loss = 1.091\n",
      "Epoch  79 Batch    0/69   train_loss = 1.044\n",
      "Epoch  80 Batch    0/69   train_loss = 1.040\n",
      "Epoch  81 Batch    0/69   train_loss = 1.016\n",
      "Epoch  82 Batch    0/69   train_loss = 0.994\n",
      "Epoch  83 Batch    0/69   train_loss = 0.988\n",
      "Epoch  84 Batch    0/69   train_loss = 0.957\n",
      "Epoch  85 Batch    0/69   train_loss = 0.952\n",
      "Epoch  86 Batch    0/69   train_loss = 0.935\n",
      "Epoch  87 Batch    0/69   train_loss = 0.912\n",
      "Epoch  88 Batch    0/69   train_loss = 0.882\n",
      "Epoch  89 Batch    0/69   train_loss = 0.866\n",
      "Epoch  90 Batch    0/69   train_loss = 0.876\n",
      "Epoch  91 Batch    0/69   train_loss = 0.855\n",
      "Epoch  92 Batch    0/69   train_loss = 0.796\n",
      "Epoch  93 Batch    0/69   train_loss = 0.809\n",
      "Epoch  94 Batch    0/69   train_loss = 0.789\n",
      "Epoch  95 Batch    0/69   train_loss = 0.789\n",
      "Epoch  96 Batch    0/69   train_loss = 0.791\n",
      "Epoch  97 Batch    0/69   train_loss = 0.758\n",
      "Epoch  98 Batch    0/69   train_loss = 0.765\n",
      "Epoch  99 Batch    0/69   train_loss = 0.724\n",
      "Epoch 100 Batch    0/69   train_loss = 0.735\n",
      "Epoch 101 Batch    0/69   train_loss = 0.761\n",
      "Epoch 102 Batch    0/69   train_loss = 0.716\n",
      "Epoch 103 Batch    0/69   train_loss = 0.679\n",
      "Epoch 104 Batch    0/69   train_loss = 0.679\n",
      "Epoch 105 Batch    0/69   train_loss = 0.687\n",
      "Epoch 106 Batch    0/69   train_loss = 0.645\n",
      "Epoch 107 Batch    0/69   train_loss = 0.631\n",
      "Epoch 108 Batch    0/69   train_loss = 0.650\n",
      "Epoch 109 Batch    0/69   train_loss = 0.597\n",
      "Epoch 110 Batch    0/69   train_loss = 0.623\n",
      "Epoch 111 Batch    0/69   train_loss = 0.638\n",
      "Epoch 112 Batch    0/69   train_loss = 0.599\n",
      "Epoch 113 Batch    0/69   train_loss = 0.569\n",
      "Epoch 114 Batch    0/69   train_loss = 0.585\n",
      "Epoch 115 Batch    0/69   train_loss = 0.571\n",
      "Epoch 116 Batch    0/69   train_loss = 0.548\n",
      "Epoch 117 Batch    0/69   train_loss = 0.573\n",
      "Epoch 118 Batch    0/69   train_loss = 0.515\n",
      "Epoch 119 Batch    0/69   train_loss = 0.533\n",
      "Epoch 120 Batch    0/69   train_loss = 0.542\n",
      "Epoch 121 Batch    0/69   train_loss = 0.536\n",
      "Epoch 122 Batch    0/69   train_loss = 0.525\n",
      "Epoch 123 Batch    0/69   train_loss = 0.511\n",
      "Epoch 124 Batch    0/69   train_loss = 0.508\n",
      "Epoch 125 Batch    0/69   train_loss = 0.484\n",
      "Epoch 126 Batch    0/69   train_loss = 0.498\n",
      "Epoch 127 Batch    0/69   train_loss = 0.502\n",
      "Epoch 128 Batch    0/69   train_loss = 0.484\n",
      "Epoch 129 Batch    0/69   train_loss = 0.508\n",
      "Epoch 130 Batch    0/69   train_loss = 0.467\n",
      "Epoch 131 Batch    0/69   train_loss = 0.442\n",
      "Epoch 132 Batch    0/69   train_loss = 0.489\n",
      "Epoch 133 Batch    0/69   train_loss = 0.480\n",
      "Epoch 134 Batch    0/69   train_loss = 0.481\n",
      "Epoch 135 Batch    0/69   train_loss = 0.449\n",
      "Epoch 136 Batch    0/69   train_loss = 0.451\n",
      "Epoch 137 Batch    0/69   train_loss = 0.463\n",
      "Epoch 138 Batch    0/69   train_loss = 0.433\n",
      "Epoch 139 Batch    0/69   train_loss = 0.413\n",
      "Epoch 140 Batch    0/69   train_loss = 0.438\n",
      "Epoch 141 Batch    0/69   train_loss = 0.432\n",
      "Epoch 142 Batch    0/69   train_loss = 0.412\n",
      "Epoch 143 Batch    0/69   train_loss = 0.423\n",
      "Epoch 144 Batch    0/69   train_loss = 0.401\n",
      "Epoch 145 Batch    0/69   train_loss = 0.392\n",
      "Epoch 146 Batch    0/69   train_loss = 0.407\n",
      "Epoch 147 Batch    0/69   train_loss = 0.406\n",
      "Epoch 148 Batch    0/69   train_loss = 0.387\n",
      "Epoch 149 Batch    0/69   train_loss = 0.419\n",
      "Epoch 150 Batch    0/69   train_loss = 0.399\n",
      "Epoch 151 Batch    0/69   train_loss = 0.393\n",
      "Epoch 152 Batch    0/69   train_loss = 0.375\n",
      "Epoch 153 Batch    0/69   train_loss = 0.402\n",
      "Epoch 154 Batch    0/69   train_loss = 0.393\n",
      "Epoch 155 Batch    0/69   train_loss = 0.355\n",
      "Epoch 156 Batch    0/69   train_loss = 0.378\n",
      "Epoch 157 Batch    0/69   train_loss = 0.377\n",
      "Epoch 158 Batch    0/69   train_loss = 0.368\n",
      "Epoch 159 Batch    0/69   train_loss = 0.350\n",
      "Epoch 160 Batch    0/69   train_loss = 0.366\n",
      "Epoch 161 Batch    0/69   train_loss = 0.350\n",
      "Epoch 162 Batch    0/69   train_loss = 0.331\n",
      "Epoch 163 Batch    0/69   train_loss = 0.363\n",
      "Epoch 164 Batch    0/69   train_loss = 0.331\n",
      "Epoch 165 Batch    0/69   train_loss = 0.328\n",
      "Epoch 166 Batch    0/69   train_loss = 0.332\n",
      "Epoch 167 Batch    0/69   train_loss = 0.328\n",
      "Epoch 168 Batch    0/69   train_loss = 0.325\n",
      "Epoch 169 Batch    0/69   train_loss = 0.324\n",
      "Epoch 170 Batch    0/69   train_loss = 0.313\n",
      "Epoch 171 Batch    0/69   train_loss = 0.336\n",
      "Epoch 172 Batch    0/69   train_loss = 0.327\n",
      "Epoch 173 Batch    0/69   train_loss = 0.339\n",
      "Epoch 174 Batch    0/69   train_loss = 0.315\n",
      "Epoch 175 Batch    0/69   train_loss = 0.317\n",
      "Epoch 176 Batch    0/69   train_loss = 0.314\n",
      "Epoch 177 Batch    0/69   train_loss = 0.303\n",
      "Epoch 178 Batch    0/69   train_loss = 0.324\n",
      "Epoch 179 Batch    0/69   train_loss = 0.310\n",
      "Epoch 180 Batch    0/69   train_loss = 0.302\n",
      "Epoch 181 Batch    0/69   train_loss = 0.295\n",
      "Epoch 182 Batch    0/69   train_loss = 0.312\n",
      "Epoch 183 Batch    0/69   train_loss = 0.290\n",
      "Epoch 184 Batch    0/69   train_loss = 0.305\n",
      "Epoch 185 Batch    0/69   train_loss = 0.282\n",
      "Epoch 186 Batch    0/69   train_loss = 0.283\n",
      "Epoch 187 Batch    0/69   train_loss = 0.299\n",
      "Epoch 188 Batch    0/69   train_loss = 0.289\n",
      "Epoch 189 Batch    0/69   train_loss = 0.308\n",
      "Epoch 190 Batch    0/69   train_loss = 0.283\n",
      "Epoch 191 Batch    0/69   train_loss = 0.290\n",
      "Epoch 192 Batch    0/69   train_loss = 0.295\n",
      "Epoch 193 Batch    0/69   train_loss = 0.276\n",
      "Epoch 194 Batch    0/69   train_loss = 0.300\n",
      "Epoch 195 Batch    0/69   train_loss = 0.261\n",
      "Epoch 196 Batch    0/69   train_loss = 0.271\n",
      "Epoch 197 Batch    0/69   train_loss = 0.279\n",
      "Epoch 198 Batch    0/69   train_loss = 0.282\n",
      "Epoch 199 Batch    0/69   train_loss = 0.296\n",
      "Epoch 200 Batch    0/69   train_loss = 0.281\n",
      "Epoch 201 Batch    0/69   train_loss = 0.289\n",
      "Epoch 202 Batch    0/69   train_loss = 0.280\n",
      "Epoch 203 Batch    0/69   train_loss = 0.267\n",
      "Epoch 204 Batch    0/69   train_loss = 0.281\n",
      "Epoch 205 Batch    0/69   train_loss = 0.259\n",
      "Epoch 206 Batch    0/69   train_loss = 0.271\n",
      "Epoch 207 Batch    0/69   train_loss = 0.256\n",
      "Epoch 208 Batch    0/69   train_loss = 0.282\n",
      "Epoch 209 Batch    0/69   train_loss = 0.252\n",
      "Epoch 210 Batch    0/69   train_loss = 0.261\n",
      "Epoch 211 Batch    0/69   train_loss = 0.259\n",
      "Epoch 212 Batch    0/69   train_loss = 0.262\n",
      "Epoch 213 Batch    0/69   train_loss = 0.281\n",
      "Epoch 214 Batch    0/69   train_loss = 0.266\n",
      "Epoch 215 Batch    0/69   train_loss = 0.263\n",
      "Epoch 216 Batch    0/69   train_loss = 0.241\n",
      "Epoch 217 Batch    0/69   train_loss = 0.276\n",
      "Epoch 218 Batch    0/69   train_loss = 0.240\n",
      "Epoch 219 Batch    0/69   train_loss = 0.252\n",
      "Epoch 220 Batch    0/69   train_loss = 0.277\n",
      "Epoch 221 Batch    0/69   train_loss = 0.273\n",
      "Epoch 222 Batch    0/69   train_loss = 0.268\n",
      "Epoch 223 Batch    0/69   train_loss = 0.271\n",
      "Epoch 224 Batch    0/69   train_loss = 0.253\n",
      "Epoch 225 Batch    0/69   train_loss = 0.259\n",
      "Epoch 226 Batch    0/69   train_loss = 0.247\n",
      "Epoch 227 Batch    0/69   train_loss = 0.264\n",
      "Epoch 228 Batch    0/69   train_loss = 0.262\n",
      "Epoch 229 Batch    0/69   train_loss = 0.254\n",
      "Epoch 230 Batch    0/69   train_loss = 0.253\n",
      "Epoch 231 Batch    0/69   train_loss = 0.259\n",
      "Epoch 232 Batch    0/69   train_loss = 0.241\n",
      "Epoch 233 Batch    0/69   train_loss = 0.236\n",
      "Epoch 234 Batch    0/69   train_loss = 0.252\n",
      "Epoch 235 Batch    0/69   train_loss = 0.249\n",
      "Epoch 236 Batch    0/69   train_loss = 0.239\n",
      "Epoch 237 Batch    0/69   train_loss = 0.257\n",
      "Epoch 238 Batch    0/69   train_loss = 0.254\n",
      "Epoch 239 Batch    0/69   train_loss = 0.246\n",
      "Epoch 240 Batch    0/69   train_loss = 0.223\n",
      "Epoch 241 Batch    0/69   train_loss = 0.252\n",
      "Epoch 242 Batch    0/69   train_loss = 0.240\n",
      "Epoch 243 Batch    0/69   train_loss = 0.247\n",
      "Epoch 244 Batch    0/69   train_loss = 0.245\n",
      "Epoch 245 Batch    0/69   train_loss = 0.233\n",
      "Epoch 246 Batch    0/69   train_loss = 0.238\n",
      "Epoch 247 Batch    0/69   train_loss = 0.251\n",
      "Epoch 248 Batch    0/69   train_loss = 0.228\n",
      "Epoch 249 Batch    0/69   train_loss = 0.234\n",
      "Epoch 250 Batch    0/69   train_loss = 0.237\n",
      "Epoch 251 Batch    0/69   train_loss = 0.233\n",
      "Epoch 252 Batch    0/69   train_loss = 0.238\n",
      "Epoch 253 Batch    0/69   train_loss = 0.257\n",
      "Epoch 254 Batch    0/69   train_loss = 0.238\n",
      "Epoch 255 Batch    0/69   train_loss = 0.245\n",
      "Epoch 256 Batch    0/69   train_loss = 0.231\n",
      "Epoch 257 Batch    0/69   train_loss = 0.233\n",
      "Epoch 258 Batch    0/69   train_loss = 0.229\n",
      "Epoch 259 Batch    0/69   train_loss = 0.225\n",
      "Epoch 260 Batch    0/69   train_loss = 0.245\n",
      "Epoch 261 Batch    0/69   train_loss = 0.214\n",
      "Epoch 262 Batch    0/69   train_loss = 0.229\n",
      "Epoch 263 Batch    0/69   train_loss = 0.235\n",
      "Epoch 264 Batch    0/69   train_loss = 0.245\n",
      "Epoch 265 Batch    0/69   train_loss = 0.224\n",
      "Epoch 266 Batch    0/69   train_loss = 0.204\n",
      "Epoch 267 Batch    0/69   train_loss = 0.231\n",
      "Epoch 268 Batch    0/69   train_loss = 0.239\n",
      "Epoch 269 Batch    0/69   train_loss = 0.226\n",
      "Epoch 270 Batch    0/69   train_loss = 0.238\n",
      "Epoch 271 Batch    0/69   train_loss = 0.230\n",
      "Epoch 272 Batch    0/69   train_loss = 0.219\n",
      "Epoch 273 Batch    0/69   train_loss = 0.223\n",
      "Epoch 274 Batch    0/69   train_loss = 0.248\n",
      "Epoch 275 Batch    0/69   train_loss = 0.236\n",
      "Epoch 276 Batch    0/69   train_loss = 0.218\n",
      "Epoch 277 Batch    0/69   train_loss = 0.218\n",
      "Epoch 278 Batch    0/69   train_loss = 0.233\n",
      "Epoch 279 Batch    0/69   train_loss = 0.226\n",
      "Epoch 280 Batch    0/69   train_loss = 0.227\n",
      "Epoch 281 Batch    0/69   train_loss = 0.221\n",
      "Epoch 282 Batch    0/69   train_loss = 0.221\n",
      "Epoch 283 Batch    0/69   train_loss = 0.223\n",
      "Epoch 284 Batch    0/69   train_loss = 0.214\n",
      "Epoch 285 Batch    0/69   train_loss = 0.229\n",
      "Epoch 286 Batch    0/69   train_loss = 0.246\n",
      "Epoch 287 Batch    0/69   train_loss = 0.217\n",
      "Epoch 288 Batch    0/69   train_loss = 0.227\n",
      "Epoch 289 Batch    0/69   train_loss = 0.211\n",
      "Epoch 290 Batch    0/69   train_loss = 0.225\n",
      "Epoch 291 Batch    0/69   train_loss = 0.229\n",
      "Epoch 292 Batch    0/69   train_loss = 0.220\n",
      "Epoch 293 Batch    0/69   train_loss = 0.217\n",
      "Epoch 294 Batch    0/69   train_loss = 0.218\n",
      "Epoch 295 Batch    0/69   train_loss = 0.201\n",
      "Epoch 296 Batch    0/69   train_loss = 0.224\n",
      "Epoch 297 Batch    0/69   train_loss = 0.222\n",
      "Epoch 298 Batch    0/69   train_loss = 0.209\n",
      "Epoch 299 Batch    0/69   train_loss = 0.225\n",
      "Model Trained and Saved\n"
     ]
    }
   ],
   "source": [
    "\"\"\"\n",
    "DON'T MODIFY ANYTHING IN THIS CELL\n",
    "\"\"\"\n",
    "batches = get_batches(int_text, batch_size, seq_length)\n",
    "\n",
    "with tf.Session(graph=train_graph) as sess:\n",
    "    sess.run(tf.global_variables_initializer())\n",
    "\n",
    "    for epoch_i in range(num_epochs):\n",
    "        state = sess.run(initial_state, {input_text: batches[0][0]})\n",
    "\n",
    "        for batch_i, (x, y) in enumerate(batches):\n",
    "            feed = {\n",
    "                input_text: x,\n",
    "                targets: y,\n",
    "                initial_state: state,\n",
    "                lr: learning_rate}\n",
    "            train_loss, state, _ = sess.run([cost, final_state, train_op], feed)\n",
    "\n",
    "            # Show every <show_every_n_batches> batches\n",
    "            if (epoch_i * len(batches) + batch_i) % show_every_n_batches == 0:\n",
    "                print('Epoch {:>3} Batch {:>4}/{}   train_loss = {:.3f}'.format(\n",
    "                    epoch_i,\n",
    "                    batch_i,\n",
    "                    len(batches),\n",
    "                    train_loss))\n",
    "\n",
    "    # Save Model\n",
    "    saver = tf.train.Saver()\n",
    "    saver.save(sess, save_dir)\n",
    "    print('Model Trained and Saved')"
   ]
  },
  {
   "cell_type": "markdown",
   "metadata": {
    "deletable": true,
    "editable": true
   },
   "source": [
    "## Save Parameters\n",
    "Save `seq_length` and `save_dir` for generating a new TV script."
   ]
  },
  {
   "cell_type": "code",
   "execution_count": 22,
   "metadata": {
    "collapsed": false,
    "deletable": true,
    "editable": true
   },
   "outputs": [],
   "source": [
    "\"\"\"\n",
    "DON'T MODIFY ANYTHING IN THIS CELL\n",
    "\"\"\"\n",
    "# Save parameters for checkpoint\n",
    "helper.save_params((seq_length, save_dir))"
   ]
  },
  {
   "cell_type": "markdown",
   "metadata": {
    "deletable": true,
    "editable": true
   },
   "source": [
    "# Checkpoint"
   ]
  },
  {
   "cell_type": "code",
   "execution_count": 23,
   "metadata": {
    "collapsed": false,
    "deletable": true,
    "editable": true
   },
   "outputs": [],
   "source": [
    "\"\"\"\n",
    "DON'T MODIFY ANYTHING IN THIS CELL\n",
    "\"\"\"\n",
    "import tensorflow as tf\n",
    "import numpy as np\n",
    "import helper\n",
    "import problem_unittests as tests\n",
    "\n",
    "_, vocab_to_int, int_to_vocab, token_dict = helper.load_preprocess()\n",
    "seq_length, load_dir = helper.load_params()"
   ]
  },
  {
   "cell_type": "markdown",
   "metadata": {
    "deletable": true,
    "editable": true
   },
   "source": [
    "## Implement Generate Functions\n",
    "### Get Tensors\n",
    "Get tensors from `loaded_graph` using the function [`get_tensor_by_name()`](https://www.tensorflow.org/api_docs/python/tf/Graph#get_tensor_by_name).  Get the tensors using the following names:\n",
    "- \"input:0\"\n",
    "- \"initial_state:0\"\n",
    "- \"final_state:0\"\n",
    "- \"probs:0\"\n",
    "\n",
    "Return the tensors in the following tuple `(InputTensor, InitialStateTensor, FinalStateTensor, ProbsTensor)` "
   ]
  },
  {
   "cell_type": "code",
   "execution_count": 24,
   "metadata": {
    "collapsed": false,
    "deletable": true,
    "editable": true
   },
   "outputs": [
    {
     "name": "stdout",
     "output_type": "stream",
     "text": [
      "Tests Passed\n"
     ]
    }
   ],
   "source": [
    "def get_tensors(loaded_graph):\n",
    "    \"\"\"\n",
    "    Get input, initial state, final state, and probabilities tensor from <loaded_graph>\n",
    "    :param loaded_graph: TensorFlow graph loaded from file\n",
    "    :return: Tuple (InputTensor, InitialStateTensor, FinalStateTensor, ProbsTensor)\n",
    "    \"\"\"\n",
    "    # TODO: Implement Function\n",
    "    InputTensor = loaded_graph.get_tensor_by_name(\"input:0\")\n",
    "    InitialStateTensor = loaded_graph.get_tensor_by_name(\"initial_state:0\")\n",
    "    FinalStateTensor = loaded_graph.get_tensor_by_name(\"final_state:0\")\n",
    "    ProbsTensor = loaded_graph.get_tensor_by_name(\"probs:0\")\n",
    "    return InputTensor, InitialStateTensor, FinalStateTensor, ProbsTensor\n",
    "\n",
    "\n",
    "\"\"\"\n",
    "DON'T MODIFY ANYTHING IN THIS CELL THAT IS BELOW THIS LINE\n",
    "\"\"\"\n",
    "tests.test_get_tensors(get_tensors)"
   ]
  },
  {
   "cell_type": "markdown",
   "metadata": {
    "deletable": true,
    "editable": true
   },
   "source": [
    "### Choose Word\n",
    "Implement the `pick_word()` function to select the next word using `probabilities`."
   ]
  },
  {
   "cell_type": "code",
   "execution_count": 27,
   "metadata": {
    "collapsed": false,
    "deletable": true,
    "editable": true
   },
   "outputs": [
    {
     "name": "stdout",
     "output_type": "stream",
     "text": [
      "Tests Passed\n"
     ]
    }
   ],
   "source": [
    "def pick_word(probabilities, int_to_vocab):\n",
    "    \"\"\"\n",
    "    Pick the next word in the generated text\n",
    "    :param probabilities: Probabilites of the next word\n",
    "    :param int_to_vocab: Dictionary of word ids as the keys and words as the values\n",
    "    :return: String of the predicted word\n",
    "    \"\"\"\n",
    "    # TODO: Implement Function\n",
    "    #print(int_to_vocab[np.random.choice(np.arange(len(int_to_vocab)), None, p=probabilities)])\n",
    "    return int_to_vocab[np.random.choice(len(int_to_vocab), None, p=probabilities)]\n",
    "\n",
    "\n",
    "\"\"\"\n",
    "DON'T MODIFY ANYTHING IN THIS CELL THAT IS BELOW THIS LINE\n",
    "\"\"\"\n",
    "tests.test_pick_word(pick_word)"
   ]
  },
  {
   "cell_type": "markdown",
   "metadata": {
    "deletable": true,
    "editable": true
   },
   "source": [
    "## Generate TV Script\n",
    "This will generate the TV script for you.  Set `gen_length` to the length of TV script you want to generate."
   ]
  },
  {
   "cell_type": "code",
   "execution_count": 29,
   "metadata": {
    "collapsed": false,
    "deletable": true,
    "editable": true
   },
   "outputs": [
    {
     "name": "stdout",
     "output_type": "stream",
     "text": [
      "moe_szyslak: yeah, but they come over here go than bart.\n",
      "apu_nahasapeemapetilon:(singing) the glove slap.\n",
      "bender:(disappointed) oh, what are you doing? oh, now we're even.\n",
      "moe_szyslak: don't you remember, how does this is the wrong side of the one.\n",
      "moe_szyslak: read on that, you can go down!\n",
      "homer_simpson: make a beer, he does. i'm really the secret ingredient dies with me.\n",
      "delivery_man:(to moe) pardon me, are you the genius behind the spend... love you! moe, for the big deal.(points to homer) is it to be thankful to rub a more.\"\n",
      "barney_gumble: tom wolfe! and for all...\n",
      "moe_szyslak: what if you sure?\n",
      "\n",
      "\n",
      "smokin'_joe_frazier: keep it anything.\n",
      "lenny_leonard: the thing! not coming out of your.\n",
      "moe_szyslak: yeah, you're a way to drunk are you know what?\n",
      "seymour_skinner:(to homer) hey, what's the matter? i'm a tanked-up loser in a helicopter!\"\n",
      "moe_szyslak:(sweetly) ah, that's god you're really!\n",
      "moe_szyslak:(realizing) awwww.(into phone) yeah, that's true. that's true, baby i remember that was an amazing... uh, yeah.\n",
      "homer_simpson:(sniffles) guys, i've gotta take it yourself, barn.\n",
      "kent_brockman:(sneering) so much the greatest!\n",
      "barney_gumble: when you get over!\n",
      "homer_simpson: moe, gimme that.\n",
      "homer_simpson: you guys.\n",
      "moe_szyslak: hey, you can level with me. you gotta be my own... with your mother, two outside?\n",
      "marge_simpson:(reading) you can say that's it won't be no. i... how would you start a romantic dinner?\n",
      "moe_szyslak:... i guess the best friends could use you something to be both hundred feet.\n",
      "sadistic_barfly: hey, mrs. l. eight.\n",
      "lenny_leonard: no more than three. big beer, comin'. let me buy you and their other from marge.\n",
      "moe_szyslak: yeah, i uh... did. this place you know. if you don't get back to the latin grammys. turns the be one\" drink is to the two of that. but shall i do! put you down down\n",
      "c. _montgomery_burns: i'm sure he'll! do forever to be a beer.\n",
      "moe_szyslak: who must be that voice box of the car...\n",
      "homer_simpson:(cutting him off) i'm still! aw, hear, you chew on a telephone wire till you get a shock.\n",
      "seymour_skinner:(he\n"
     ]
    }
   ],
   "source": [
    "gen_length = 500\n",
    "# homer_simpson, moe_szyslak, or Barney_Gumble\n",
    "prime_word = 'moe_szyslak'\n",
    "\n",
    "\"\"\"\n",
    "DON'T MODIFY ANYTHING IN THIS CELL THAT IS BELOW THIS LINE\n",
    "\"\"\"\n",
    "loaded_graph = tf.Graph()\n",
    "with tf.Session(graph=loaded_graph) as sess:\n",
    "    # Load saved model\n",
    "    loader = tf.train.import_meta_graph(load_dir + '.meta')\n",
    "    loader.restore(sess, load_dir)\n",
    "\n",
    "    # Get Tensors from loaded model\n",
    "    input_text, initial_state, final_state, probs = get_tensors(loaded_graph)\n",
    "\n",
    "    # Sentences generation setup\n",
    "    gen_sentences = [prime_word + ':']\n",
    "    prev_state = sess.run(initial_state, {input_text: np.array([[1]])})\n",
    "\n",
    "    # Generate sentences\n",
    "    for n in range(gen_length):\n",
    "        # Dynamic Input\n",
    "        dyn_input = [[vocab_to_int[word] for word in gen_sentences[-seq_length:]]]\n",
    "        dyn_seq_length = len(dyn_input[0])\n",
    "\n",
    "        # Get Prediction\n",
    "        probabilities, prev_state = sess.run(\n",
    "            [probs, final_state],\n",
    "            {input_text: dyn_input, initial_state: prev_state})\n",
    "        \n",
    "        pred_word = pick_word(probabilities[dyn_seq_length-1], int_to_vocab)\n",
    "\n",
    "        gen_sentences.append(pred_word)\n",
    "    \n",
    "    # Remove tokens\n",
    "    tv_script = ' '.join(gen_sentences)\n",
    "    for key, token in token_dict.items():\n",
    "        ending = ' ' if key in ['\\n', '(', '\"'] else ''\n",
    "        tv_script = tv_script.replace(' ' + token.lower(), key)\n",
    "    tv_script = tv_script.replace('\\n ', '\\n')\n",
    "    tv_script = tv_script.replace('( ', '(')\n",
    "        \n",
    "    print(tv_script)"
   ]
  },
  {
   "cell_type": "markdown",
   "metadata": {
    "deletable": true,
    "editable": true
   },
   "source": [
    "# The TV Script is Nonsensical\n",
    "It's ok if the TV script doesn't make any sense.  We trained on less than a megabyte of text.  In order to get good results, you'll have to use a smaller vocabulary or get more data.  Luckly there's more data!  As we mentioned in the begging of this project, this is a subset of [another dataset](https://www.kaggle.com/wcukierski/the-simpsons-by-the-data).  We didn't have you train on all the data, because that would take too long.  However, you are free to train your neural network on all the data.  After you complete the project, of course.\n",
    "# Submitting This Project\n",
    "When submitting this project, make sure to run all the cells before saving the notebook. Save the notebook file as \"dlnd_tv_script_generation.ipynb\" and save it as a HTML file under \"File\" -> \"Download as\". Include the \"helper.py\" and \"problem_unittests.py\" files in your submission."
   ]
  }
 ],
 "metadata": {
  "kernelspec": {
   "display_name": "Python 3",
   "language": "python",
   "name": "python3"
  },
  "language_info": {
   "codemirror_mode": {
    "name": "ipython",
    "version": 3
   },
   "file_extension": ".py",
   "mimetype": "text/x-python",
   "name": "python",
   "nbconvert_exporter": "python",
   "pygments_lexer": "ipython3",
   "version": "3.5.2"
  },
  "widgets": {
   "state": {},
   "version": "1.1.2"
  }
 },
 "nbformat": 4,
 "nbformat_minor": 0
}
